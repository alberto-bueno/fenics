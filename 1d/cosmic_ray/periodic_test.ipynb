{
 "cells": [
  {
   "cell_type": "code",
   "execution_count": 5,
   "metadata": {
    "collapsed": false
   },
   "outputs": [
    {
     "data": {
      "text/plain": [
       "[<matplotlib.lines.Line2D at 0x7fc4ee068ed0>]"
      ]
     },
     "execution_count": 5,
     "metadata": {},
     "output_type": "execute_result"
    },
    {
     "data": {
      "image/png": "[encoded data removed]",
      "text/plain": [
       "<matplotlib.figure.Figure at 0x7fc4f42ec190>"
      ]
     },
     "metadata": {},
     "output_type": "display_data"
    }
   ],
   "source": [
    "%matplotlib inline\n",
    "from dolfin import *\n",
    "\n",
    "# number of elements\n",
    "nc = 100\n",
    "\n",
    "# Sub domain with periodicity\n",
    "class PeriodicBoundary(SubDomain):\n",
    "   def inside(self, x, on_boundary):\n",
    "      return (near(x[0],0.0) and on_boundary)\n",
    "\n",
    "   def map(self, x, y):\n",
    "      y[0] = x[0] - 1.0\n",
    "\n",
    "u0 = Expression(\"1.0+0.5*sin(2*pi*x[0])\",degree=1)\n",
    "mesh = UnitIntervalMesh(nc)\n",
    "V = FunctionSpace(mesh, \"CG\", 1, constrained_domain=PeriodicBoundary())\n",
    "u = Function(V)\n",
    "u.interpolate(u0)\n",
    "plot(u)"
   ]
  },
  {
   "cell_type": "code",
   "execution_count": null,
   "metadata": {
    "collapsed": true
   },
   "outputs": [],
   "source": [
    "plot?"
   ]
  },
  {
   "cell_type": "code",
   "execution_count": null,
   "metadata": {
    "collapsed": true
   },
   "outputs": [],
   "source": []
  }
 ],
 "metadata": {
  "kernelspec": {
   "display_name": "Python 2",
   "language": "python",
   "name": "python2"
  },
  "language_info": {
   "codemirror_mode": {
    "name": "ipython",
    "version": 2
   },
   "file_extension": ".py",
   "mimetype": "text/x-python",
   "name": "python",
   "nbconvert_exporter": "python",
   "pygments_lexer": "ipython2",
   "version": "2.7.12"
  }
 },
 "nbformat": 4,
 "nbformat_minor": 1
}
