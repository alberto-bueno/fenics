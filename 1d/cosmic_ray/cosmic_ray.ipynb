{
 "cells": [
  {
   "cell_type": "code",
   "execution_count": 24,
   "metadata": {
    "collapsed": false
   },
   "outputs": [
    {
     "ename": "RuntimeError",
     "evalue": "\n\n*** -------------------------------------------------------------------------\n*** DOLFIN encountered an error. If you are not able to resolve this issue\n*** using the information listed below, you can ask for help at\n***\n***     fenics-support@googlegroups.com\n***\n*** Remember to include the error message listed below and, if possible,\n*** include a *minimal* running example to reproduce the error.\n***\n*** -------------------------------------------------------------------------\n*** Error:   Unable to solve nonlinear system with NewtonSolver.\n*** Reason:  Newton solver did not converge because maximum number of iterations reached.\n*** Where:   This error was encountered inside NewtonSolver.cpp.\n*** Process: 0\n*** \n*** DOLFIN version: 2016.1.0\n*** Git changeset:  f4e22e59622b42182d16059f0212ddb1c6aa8712\n*** -------------------------------------------------------------------------\n",
     "output_type": "error",
     "traceback": [
      "\u001b[0;31m\u001b[0m",
      "\u001b[0;31mRuntimeError\u001b[0mTraceback (most recent call last)",
      "\u001b[0;32m<ipython-input-24-c9c6a5dc55b1>\u001b[0m in \u001b[0;36m<module>\u001b[0;34m()\u001b[0m\n\u001b[1;32m     50\u001b[0m \u001b[0mplot\u001b[0m\u001b[0;34m(\u001b[0m\u001b[0mu\u001b[0m\u001b[0;34m)\u001b[0m\u001b[0;34m\u001b[0m\u001b[0m\n\u001b[1;32m     51\u001b[0m \u001b[0muold\u001b[0m\u001b[0;34m.\u001b[0m\u001b[0massign\u001b[0m\u001b[0;34m(\u001b[0m\u001b[0mu\u001b[0m\u001b[0;34m)\u001b[0m\u001b[0;34m\u001b[0m\u001b[0m\n\u001b[0;32m---> 52\u001b[0;31m \u001b[0msolver\u001b[0m\u001b[0;34m.\u001b[0m\u001b[0msolve\u001b[0m\u001b[0;34m(\u001b[0m\u001b[0;34m)\u001b[0m\u001b[0;34m\u001b[0m\u001b[0m\n\u001b[0m\u001b[1;32m     53\u001b[0m \u001b[0mplot\u001b[0m\u001b[0;34m(\u001b[0m\u001b[0mu\u001b[0m\u001b[0;34m)\u001b[0m\u001b[0;34m\u001b[0m\u001b[0m\n",
      "\u001b[0;31mRuntimeError\u001b[0m: \n\n*** -------------------------------------------------------------------------\n*** DOLFIN encountered an error. If you are not able to resolve this issue\n*** using the information listed below, you can ask for help at\n***\n***     fenics-support@googlegroups.com\n***\n*** Remember to include the error message listed below and, if possible,\n*** include a *minimal* running example to reproduce the error.\n***\n*** -------------------------------------------------------------------------\n*** Error:   Unable to solve nonlinear system with NewtonSolver.\n*** Reason:  Newton solver did not converge because maximum number of iterations reached.\n*** Where:   This error was encountered inside NewtonSolver.cpp.\n*** Process: 0\n*** \n*** DOLFIN version: 2016.1.0\n*** Git changeset:  f4e22e59622b42182d16059f0212ddb1c6aa8712\n*** -------------------------------------------------------------------------\n"
     ]
    },
    {
     "data": {
      "image/png": "[encoded data removed]",
      "text/plain": [
       "<matplotlib.figure.Figure at 0x7f577155fad0>"
      ]
     },
     "metadata": {},
     "output_type": "display_data"
    }
   ],
   "source": [
    "%matplotlib inline\n",
    "from dolfin import *\n",
    "\n",
    "nc = 100\n",
    "T  = 0.02  # final time\n",
    "h  = 1.0/nc\n",
    "ep = Constant(h)\n",
    "dt = h\n",
    "idt= Constant(1.0/dt)\n",
    "\n",
    "# Sub domain for Dirichlet boundary condition\n",
    "class Boundary(SubDomain):\n",
    "   def inside(self, x, on_boundary):\n",
    "      return (x[0] < DOLFIN_EPS or x[0] > 1.0 - DOLFIN_EPS) and on_boundary\n",
    "\n",
    "   def map(self, x, y):\n",
    "      y[0] = x[0] - 1.0\n",
    "\n",
    "# Initial condition\n",
    "u0 = Expression(\"1.0+0.5*sin(2*pi*x[0])\",degree=1)\n",
    "\n",
    "# Load mesh\n",
    "mesh = UnitIntervalMesh(nc)\n",
    "\n",
    "# Defining the function spaces\n",
    "V = FunctionSpace(mesh, \"CG\", 1, constrained_domain=Boundary())\n",
    "\n",
    "# Test and trial functions\n",
    "v = TestFunction(V)\n",
    "u = Function(V)\n",
    "du = TrialFunction(V)\n",
    "uold = Function(V)  # previous solution\n",
    "\n",
    "ux = u.dx(0)\n",
    "vx = v.dx(0)\n",
    "K  = u/sqrt(ux**2 + ep**2)\n",
    "R = idt*(u-uold)*v*dx + K*ux*vx*dx \n",
    "J  = derivative(R, u, du)  # Gateaux derivative in dir. of du\n",
    "\n",
    "problem = NonlinearVariationalProblem(R, u, J=J)\n",
    "solver  = NonlinearVariationalSolver(problem)\n",
    "prm = solver.parameters\n",
    "prm['newton_solver']['absolute_tolerance'] = 1E-8\n",
    "prm['newton_solver']['relative_tolerance'] = 1E-2\n",
    "prm['newton_solver']['maximum_iterations'] = 100\n",
    "prm['newton_solver']['relaxation_parameter'] = 0.1\n",
    "\n",
    "# Set initial condition\n",
    "u.interpolate(u0)\n",
    "plot(u)\n",
    "uold.assign(u)\n",
    "solver.solve()\n",
    "plot(u)"
   ]
  },
  {
   "cell_type": "code",
   "execution_count": 5,
   "metadata": {
    "collapsed": true
   },
   "outputs": [],
   "source": [
    "plot?"
   ]
  },
  {
   "cell_type": "code",
   "execution_count": null,
   "metadata": {
    "collapsed": true
   },
   "outputs": [],
   "source": []
  }
 ],
 "metadata": {
  "kernelspec": {
   "display_name": "Python 2",
   "language": "python",
   "name": "python2"
  },
  "language_info": {
   "codemirror_mode": {
    "name": "ipython",
    "version": 2
   },
   "file_extension": ".py",
   "mimetype": "text/x-python",
   "name": "python",
   "nbconvert_exporter": "python",
   "pygments_lexer": "ipython2",
   "version": "2.7.12"
  }
 },
 "nbformat": 4,
 "nbformat_minor": 1
}
